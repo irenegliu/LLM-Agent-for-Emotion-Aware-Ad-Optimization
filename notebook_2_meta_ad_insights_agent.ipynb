# Title: Meta Ad Insights Agent

# 1. Import & Setup
import requests
from transformers import AutoTokenizer, AutoModelForSequenceClassification
import torch
import openai

# 2. Load Sentiment Classifier (from previous notebook)
model_path = "sentiment-model-mosi"
tokenizer = AutoTokenizer.from_pretrained(model_path)
model = AutoModelForSequenceClassification.from_pretrained(model_path)

def analyze_sentiment(text):
    inputs = tokenizer(text, return_tensors="pt", truncation=True, padding=True)
    outputs = model(**inputs)
    pred = torch.argmax(outputs.logits, dim=1).item()
    return pred  # 0 (negative), 1 (positive) if binary

# 3. Query Meta Ad Library API (Pseudo-code, requires access token)
def fetch_ads(page_id, access_token, limit=10):
    url = f"https://graph.facebook.com/v19.0/{page_id}/ads"
    params = {"fields": "ad_creative_body", "limit": limit, "access_token": access_token}
    resp = requests.get(url, params=params)
    return [ad["ad_creative_body"] for ad in resp.json().get("data", [])]

# 4. Analyze Ads
page_id = "YOUR_PAGE_ID"
access_token = "YOUR_ACCESS_TOKEN"
ad_texts = fetch_ads(page_id, access_token)

ad_sentiments = []
for ad in ad_texts:
    sentiment = analyze_sentiment(ad)
    ad_sentiments.append({"ad": ad, "sentiment": sentiment})

# 5. Generate Persona-Targeted Suggestions (LLM)
openai.api_key = "YOUR_OPENAI_API_KEY"

def improve_ad(ad_text, sentiment):
    prompt = f"""
    The following ad copy has a {'positive' if sentiment==1 else 'negative'} emotional tone:
    \"{ad_text}\"
    Suggest an improved version that targets a specific persona and increases emotional resonance.
    """
    response = openai.ChatCompletion.create(
        model="gpt-4", messages=[{"role": "user", "content": prompt}]
    )
    return response["choices"][0]["message"]["content"]

improved_ads = []
for ad, sent in zip(ad_texts, ad_sentiments):
    suggestion = improve_ad(ad, sent["sentiment"])
    improved_ads.append({"original": ad, "suggestion": suggestion})

# 6. (Optional) A/B Testing - add your logic here

# 7. Output Results
import pandas as pd
results_df = pd.DataFrame(improved_ads)
display(results_df)