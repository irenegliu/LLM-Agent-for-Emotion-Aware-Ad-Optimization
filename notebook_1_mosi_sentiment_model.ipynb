# Title: CMU-MOSI Sentiment Classifier

# 1. Import & Setup
import torch
from transformers import AutoTokenizer, AutoModelForSequenceClassification, Trainer, TrainingArguments
import pandas as pd

# 2. Load CMU-MOSI Dataset (assume preprocessed as CSV for this example)
mosi_df = pd.read_csv("cmu_mosi_sentiment.csv")  # Columns: text, label (-3 to +3 or mapped to 0/1 for binary)

# 3. Preprocess Data
tokenizer = AutoTokenizer.from_pretrained('bert-base-uncased')
def tokenize(batch):
    return tokenizer(batch["text"], padding=True, truncation=True)

# 4. Create PyTorch Dataset
from datasets import Dataset
dataset = Dataset.from_pandas(mosi_df)
dataset = dataset.map(tokenize, batched=True)

# 5. Split Dataset
train_test = dataset.train_test_split(test_size=0.2)
train_dataset = train_test["train"]
eval_dataset = train_test["test"]

# 6. Load or Fine-tune Model
model = AutoModelForSequenceClassification.from_pretrained('bert-base-uncased', num_labels=2)

training_args = TrainingArguments(
    output_dir='./results', num_train_epochs=3, per_device_train_batch_size=8,
    evaluation_strategy="epoch", save_strategy="epoch", logging_dir='./logs',
)

trainer = Trainer(
    model=model, args=training_args, train_dataset=train_dataset,
    eval_dataset=eval_dataset,
)

# 7. Train or Load
# trainer.train()
# trainer.save_model("sentiment-model-mosi")

# Or load pre-trained/fine-tuned model
# model = AutoModelForSequenceClassification.from_pretrained('sentiment-model-mosi')

# 8. Evaluation
# results = trainer.evaluate()